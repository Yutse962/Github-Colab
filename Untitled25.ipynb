{
  "nbformat": 4,
  "nbformat_minor": 0,
  "metadata": {
    "colab": {
      "provenance": [],
      "authorship_tag": "ABX9TyObr7ttanukEN+PKf/4yPKC",
      "include_colab_link": true
    },
    "kernelspec": {
      "name": "python3",
      "display_name": "Python 3"
    },
    "language_info": {
      "name": "python"
    }
  },
  "cells": [
    {
      "cell_type": "markdown",
      "metadata": {
        "id": "view-in-github",
        "colab_type": "text"
      },
      "source": [
        "<a href=\"https://colab.research.google.com/github/Yutse962/Github-Colab/blob/main/Untitled25.ipynb\" target=\"_parent\"><img src=\"https://colab.research.google.com/assets/colab-badge.svg\" alt=\"Open In Colab\"/></a>"
      ]
    },
    {
      "cell_type": "code",
      "execution_count": 6,
      "metadata": {
        "colab": {
          "base_uri": "https://localhost:8080/"
        },
        "id": "SWKDEU4FljdS",
        "outputId": "17e78b38-43c4-49a0-9189-b4caf7569645"
      },
      "outputs": [
        {
          "output_type": "stream",
          "name": "stdout",
          "text": [
            "Original: 這是一個用於測試詞語生成的範例句子?\n",
            "Processed: 測試句子這是詞語一個生成範例用的\n"
          ]
        }
      ],
      "source": [
        "import jieba\n",
        "import random\n",
        "\n",
        "# Load Chinese stop words\n",
        "\n",
        "stop_words = [\"?\",\"於\"]\n",
        "\n",
        "def preprocess_sentence_chinese(sentence, shuffle_rate=0.3):\n",
        "    \"\"\"Preprocess sentence by removing stop words and optionally shuffling the words.\"\"\"\n",
        "    words = list(jieba.cut(sentence))\n",
        "    filtered_words = [word for word in words if word not in stop_words]\n",
        "    # Randomly shuffle words 20% of the time\n",
        "    if random.random() < shuffle_rate:\n",
        "        random.shuffle(filtered_words)\n",
        "    return ''.join(filtered_words)\n",
        "\n",
        "# Example usage\n",
        "original_sentence = \"這是一個用於測試詞語生成的範例句子?\"\n",
        "source_sequence = preprocess_sentence_chinese(original_sentence)\n",
        "print(\"Original:\", original_sentence)\n",
        "print(\"Processed:\", source_sequence)"
      ]
    }
  ]
}